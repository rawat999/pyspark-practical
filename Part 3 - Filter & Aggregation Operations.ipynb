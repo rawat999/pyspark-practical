{
 "cells": [
  {
   "cell_type": "code",
   "execution_count": 1,
   "id": "7c2aeb7a",
   "metadata": {},
   "outputs": [],
   "source": [
    "# Filter Operations\n",
    "# &, |, ==\n",
    "# ~"
   ]
  },
  {
   "cell_type": "code",
   "execution_count": 3,
   "id": "44859e86",
   "metadata": {},
   "outputs": [],
   "source": [
    "from pyspark.sql import SparkSession\n",
    "\n",
    "spark = SparkSession.builder.master('local[1]').appName('dataframe').getOrCreate()"
   ]
  },
  {
   "cell_type": "code",
   "execution_count": 4,
   "id": "b51f0d21",
   "metadata": {},
   "outputs": [
    {
     "name": "stdout",
     "output_type": "stream",
     "text": [
      "+---+----------+---------+------------+--------------------+--------+\n",
      "| id|      date|  country|       store|             product|num_sold|\n",
      "+---+----------+---------+------------+--------------------+--------+\n",
      "|  0|2017-01-01|Argentina|Kaggle Learn|Using LLMs to Imp...|      63|\n",
      "|  1|2017-01-01|Argentina|Kaggle Learn|Using LLMs to Tra...|      66|\n",
      "|  2|2017-01-01|Argentina|Kaggle Learn|Using LLMs to Win...|       9|\n",
      "|  3|2017-01-01|Argentina|Kaggle Learn|Using LLMs to Win...|      59|\n",
      "+---+----------+---------+------------+--------------------+--------+\n",
      "only showing top 4 rows\n",
      "\n"
     ]
    }
   ],
   "source": [
    "data = spark.read.csv('forecasting_mini_course_sales/train.csv', header=True, inferSchema=True)\n",
    "data.show(4)"
   ]
  },
  {
   "cell_type": "markdown",
   "id": "cdf2c370",
   "metadata": {},
   "source": [
    "### Filter Operations"
   ]
  },
  {
   "cell_type": "code",
   "execution_count": 6,
   "id": "bb761386",
   "metadata": {},
   "outputs": [
    {
     "name": "stdout",
     "output_type": "stream",
     "text": [
      "+-----+----------+---------+------------+--------------------+--------+\n",
      "|   id|      date|  country|       store|             product|num_sold|\n",
      "+-----+----------+---------+------------+--------------------+--------+\n",
      "|87377|2020-03-11|Argentina|Kaggle Learn|Using LLMs to Win...|       2|\n",
      "|88952|2020-04-01|Argentina|Kaggle Learn|Using LLMs to Win...|       2|\n",
      "|89027|2020-04-02|Argentina|Kaggle Learn|Using LLMs to Win...|       2|\n",
      "|89102|2020-04-03|Argentina|Kaggle Learn|Using LLMs to Win...|       2|\n",
      "|89327|2020-04-06|Argentina|Kaggle Learn|Using LLMs to Win...|       2|\n",
      "+-----+----------+---------+------------+--------------------+--------+\n",
      "only showing top 5 rows\n",
      "\n"
     ]
    }
   ],
   "source": [
    "### sales units less than 3\n",
    "data.filter(\"num_sold<3\").show(5)"
   ]
  },
  {
   "cell_type": "code",
   "execution_count": 8,
   "id": "80bd8884",
   "metadata": {},
   "outputs": [
    {
     "name": "stdout",
     "output_type": "stream",
     "text": [
      "+---------+------------+--------------------+\n",
      "|  country|       store|             product|\n",
      "+---------+------------+--------------------+\n",
      "|Argentina|Kaggle Learn|Using LLMs to Win...|\n",
      "|Argentina|Kaggle Learn|Using LLMs to Win...|\n",
      "|Argentina|Kaggle Learn|Using LLMs to Win...|\n",
      "|Argentina|Kaggle Learn|Using LLMs to Win...|\n",
      "+---------+------------+--------------------+\n",
      "only showing top 4 rows\n",
      "\n"
     ]
    }
   ],
   "source": [
    "### get country, store and product where sales units less than 5 \n",
    "data.filter(\"num_sold<5\").select(['country', 'store', 'product']).show(4)"
   ]
  },
  {
   "cell_type": "code",
   "execution_count": 17,
   "id": "976734f4",
   "metadata": {},
   "outputs": [
    {
     "name": "stdout",
     "output_type": "stream",
     "text": [
      "+-----+----------+---------+---------+--------------------+--------+\n",
      "|   id|      date|  country|    store|             product|num_sold|\n",
      "+-----+----------+---------+---------+--------------------+--------+\n",
      "|27160|2017-12-29|Argentina|Kagglazon|Using LLMs to Imp...|     411|\n",
      "+-----+----------+---------+---------+--------------------+--------+\n",
      "\n"
     ]
    }
   ],
   "source": [
    "### multiple filters\n",
    "data.filter((data['country']=='Argentina') & (data['num_sold']>400)).show()"
   ]
  },
  {
   "cell_type": "code",
   "execution_count": 22,
   "id": "8db711f6",
   "metadata": {},
   "outputs": [
    {
     "name": "stdout",
     "output_type": "stream",
     "text": [
      "+---+----------+-------+---------+--------------------+--------+\n",
      "| id|      date|country|    store|             product|num_sold|\n",
      "+---+----------+-------+---------+--------------------+--------+\n",
      "| 25|2017-01-01| Canada|Kagglazon|Using LLMs to Imp...|    1041|\n",
      "| 26|2017-01-01| Canada|Kagglazon|Using LLMs to Tra...|    1101|\n",
      "| 28|2017-01-01| Canada|Kagglazon|Using LLMs to Win...|    1062|\n",
      "| 55|2017-01-01|  Japan|Kagglazon|Using LLMs to Imp...|     938|\n",
      "| 58|2017-01-01|  Japan|Kagglazon|Using LLMs to Win...|     970|\n",
      "+---+----------+-------+---------+--------------------+--------+\n",
      "only showing top 5 rows\n",
      "\n"
     ]
    }
   ],
   "source": [
    "### filters - inverse condition\n",
    "data.filter(~(data['num_sold']<900)).show(5)"
   ]
  },
  {
   "cell_type": "markdown",
   "id": "8cca1cb2",
   "metadata": {},
   "source": [
    "### Aggregation Functions"
   ]
  },
  {
   "cell_type": "code",
   "execution_count": 23,
   "id": "1151389b",
   "metadata": {},
   "outputs": [
    {
     "name": "stdout",
     "output_type": "stream",
     "text": [
      "root\n",
      " |-- id: integer (nullable = true)\n",
      " |-- date: date (nullable = true)\n",
      " |-- country: string (nullable = true)\n",
      " |-- store: string (nullable = true)\n",
      " |-- product: string (nullable = true)\n",
      " |-- num_sold: integer (nullable = true)\n",
      "\n"
     ]
    }
   ],
   "source": [
    "data.printSchema()"
   ]
  },
  {
   "cell_type": "code",
   "execution_count": 31,
   "id": "378dd7df",
   "metadata": {},
   "outputs": [
    {
     "name": "stdout",
     "output_type": "stream",
     "text": [
      "+---------+------------------+\n",
      "|  country|     avg(num_sold)|\n",
      "+---------+------------------+\n",
      "|Argentina| 61.45469149324571|\n",
      "|    Spain|159.94384811975172|\n",
      "|  Estonia|130.60675428988682|\n",
      "|   Canada| 256.0465133260314|\n",
      "|    Japan| 219.5613727637824|\n",
      "+---------+------------------+\n",
      "\n"
     ]
    }
   ],
   "source": [
    "## Country wise average sales across time\n",
    "data.groupBy('country').avg('num_sold').show()"
   ]
  },
  {
   "cell_type": "code",
   "execution_count": 32,
   "id": "e5cdfffd",
   "metadata": {},
   "outputs": [
    {
     "name": "stdout",
     "output_type": "stream",
     "text": [
      "+------------+-------------+\n",
      "|       store|sum(num_sold)|\n",
      "+------------+-------------+\n",
      "|Kaggle Learn|      2755934|\n",
      "|   Kagglazon|     15661335|\n",
      "|Kaggle Store|      4251056|\n",
      "+------------+-------------+\n",
      "\n"
     ]
    }
   ],
   "source": [
    "### Group by store where max sales\n",
    "data.groupBy('store').sum('num_sold').show()"
   ]
  },
  {
   "cell_type": "code",
   "execution_count": 37,
   "id": "62fb91b7",
   "metadata": {},
   "outputs": [
    {
     "name": "stdout",
     "output_type": "stream",
     "text": [
      "+--------------------+-----+\n",
      "|             product|count|\n",
      "+--------------------+-----+\n",
      "|Using LLMs to Imp...|27390|\n",
      "|Using LLMs to Tra...|27390|\n",
      "|Using LLMs to Win...|27390|\n",
      "|Using LLMs to Wri...|27390|\n",
      "|Using LLMs to Win...|27390|\n",
      "+--------------------+-----+\n",
      "\n"
     ]
    }
   ],
   "source": [
    "### count of product\n",
    "data.groupBy('product').count().show()"
   ]
  },
  {
   "cell_type": "code",
   "execution_count": 40,
   "id": "37368350",
   "metadata": {},
   "outputs": [
    {
     "name": "stdout",
     "output_type": "stream",
     "text": [
      "+---------+----------+-------------+\n",
      "|  country| min(date)|sum(num_sold)|\n",
      "+---------+----------+-------------+\n",
      "|Argentina|2017-01-01|      1683244|\n",
      "|    Spain|2017-01-01|      4380862|\n",
      "|  Estonia|2017-01-01|      3577319|\n",
      "|   Canada|2017-01-01|      7013114|\n",
      "|    Japan|2017-01-01|      6013786|\n",
      "+---------+----------+-------------+\n",
      "\n"
     ]
    }
   ],
   "source": [
    "### apply aggregation on specific columns\n",
    "data.groupBy('country').agg({'date': 'min', 'num_sold': 'sum'}).show()"
   ]
  }
 ],
 "metadata": {
  "kernelspec": {
   "display_name": "Python 3 (ipykernel)",
   "language": "python",
   "name": "python3"
  },
  "language_info": {
   "codemirror_mode": {
    "name": "ipython",
    "version": 3
   },
   "file_extension": ".py",
   "mimetype": "text/x-python",
   "name": "python",
   "nbconvert_exporter": "python",
   "pygments_lexer": "ipython3",
   "version": "3.9.12"
  }
 },
 "nbformat": 4,
 "nbformat_minor": 5
}
