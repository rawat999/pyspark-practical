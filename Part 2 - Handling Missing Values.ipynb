{
 "cells": [
  {
   "cell_type": "markdown",
   "id": "8555405b",
   "metadata": {},
   "source": [
    "### Handling Missing Values\n",
    "<ul>\n",
    "    <li>Dropping Columns</li>\n",
    "    <li>Dropping Rows</li>\n",
    "    <li>Various Parameter in Dropping Functionalities</li>\n",
    "    <li>Handling Missing values by Mean, Median and Mode</li>\n",
    "</ul>"
   ]
  },
  {
   "cell_type": "code",
   "execution_count": 14,
   "id": "66012555",
   "metadata": {},
   "outputs": [],
   "source": [
    "from pyspark.sql import SparkSession\n",
    "spark = SparkSession.builder.master('local[1]').appName('SparkPractice').getOrCreate()"
   ]
  },
  {
   "cell_type": "code",
   "execution_count": 15,
   "id": "20c9f79e",
   "metadata": {},
   "outputs": [],
   "source": [
    "data = spark.read.csv('test2.csv', header=True, inferSchema=True)"
   ]
  },
  {
   "cell_type": "code",
   "execution_count": 16,
   "id": "744ad975",
   "metadata": {},
   "outputs": [
    {
     "name": "stdout",
     "output_type": "stream",
     "text": [
      "+--------+----+-------+-------+\n",
      "|    Name| Age|Address| Salary|\n",
      "+--------+----+-------+-------+\n",
      "|     Jay|  23|  Ajmer|  32000|\n",
      "|  Manish|  19| Jaipur|  36450|\n",
      "|    Oman|  11|  Ajmer|  61700|\n",
      "|    Yuzi|  30|  Noida|  78200|\n",
      "|Virendra|null|  Ajmer|  83000|\n",
      "|   Viraj|  25| Mumbai|1012000|\n",
      "|Shrijesh|  22|   null|  43230|\n",
      "|  Ganesh|null|   null|  21000|\n",
      "|Amrindra|  32| Panjab|   null|\n",
      "|  Amisha|  23| Jaipur|  45010|\n",
      "+--------+----+-------+-------+\n",
      "\n"
     ]
    }
   ],
   "source": [
    "data.show(n=10)"
   ]
  },
  {
   "cell_type": "code",
   "execution_count": 17,
   "id": "a55597f7",
   "metadata": {},
   "outputs": [
    {
     "name": "stdout",
     "output_type": "stream",
     "text": [
      "+------+---+------+\n",
      "|  Name|Age|Salary|\n",
      "+------+---+------+\n",
      "|   Jay| 23| 32000|\n",
      "|Manish| 19| 36450|\n",
      "|  Oman| 11| 61700|\n",
      "+------+---+------+\n",
      "only showing top 3 rows\n",
      "\n"
     ]
    }
   ],
   "source": [
    "### drop columns\n",
    "data.drop('Address').show(n=3)"
   ]
  },
  {
   "cell_type": "code",
   "execution_count": 20,
   "id": "4256e848",
   "metadata": {},
   "outputs": [
    {
     "name": "stdout",
     "output_type": "stream",
     "text": [
      "+------+---+-------+-------+\n",
      "|  Name|Age|Address| Salary|\n",
      "+------+---+-------+-------+\n",
      "|   Jay| 23|  Ajmer|  32000|\n",
      "|Manish| 19| Jaipur|  36450|\n",
      "|  Oman| 11|  Ajmer|  61700|\n",
      "|  Yuzi| 30|  Noida|  78200|\n",
      "| Viraj| 25| Mumbai|1012000|\n",
      "|Amisha| 23| Jaipur|  45010|\n",
      "+------+---+-------+-------+\n",
      "\n"
     ]
    }
   ],
   "source": [
    "# drop null rows if any\n",
    "data.dropna(how='any').show()"
   ]
  },
  {
   "cell_type": "code",
   "execution_count": 21,
   "id": "46f875c8",
   "metadata": {},
   "outputs": [
    {
     "name": "stdout",
     "output_type": "stream",
     "text": [
      "+--------+----+-------+-------+\n",
      "|    Name| Age|Address| Salary|\n",
      "+--------+----+-------+-------+\n",
      "|     Jay|  23|  Ajmer|  32000|\n",
      "|  Manish|  19| Jaipur|  36450|\n",
      "|    Oman|  11|  Ajmer|  61700|\n",
      "|    Yuzi|  30|  Noida|  78200|\n",
      "|Virendra|null|  Ajmer|  83000|\n",
      "|   Viraj|  25| Mumbai|1012000|\n",
      "|Shrijesh|  22|   null|  43230|\n",
      "|  Ganesh|null|   null|  21000|\n",
      "|Amrindra|  32| Panjab|   null|\n",
      "|  Amisha|  23| Jaipur|  45010|\n",
      "+--------+----+-------+-------+\n",
      "\n"
     ]
    }
   ],
   "source": [
    "# drop rows if all null values\n",
    "data.dropna(how='all').show()"
   ]
  },
  {
   "cell_type": "code",
   "execution_count": 23,
   "id": "93c11c99",
   "metadata": {},
   "outputs": [
    {
     "name": "stdout",
     "output_type": "stream",
     "text": [
      "+--------+----+-------+-------+\n",
      "|    Name| Age|Address| Salary|\n",
      "+--------+----+-------+-------+\n",
      "|     Jay|  23|  Ajmer|  32000|\n",
      "|  Manish|  19| Jaipur|  36450|\n",
      "|    Oman|  11|  Ajmer|  61700|\n",
      "|    Yuzi|  30|  Noida|  78200|\n",
      "|Virendra|null|  Ajmer|  83000|\n",
      "|   Viraj|  25| Mumbai|1012000|\n",
      "|Shrijesh|  22|   null|  43230|\n",
      "|Amrindra|  32| Panjab|   null|\n",
      "|  Amisha|  23| Jaipur|  45010|\n",
      "+--------+----+-------+-------+\n",
      "\n"
     ]
    }
   ],
   "source": [
    "### threshold in dropping (thresh=3 means atleast 3 non-null values then not drop)\n",
    "data.dropna(thresh=3).show()"
   ]
  },
  {
   "cell_type": "code",
   "execution_count": 24,
   "id": "027e2926",
   "metadata": {},
   "outputs": [
    {
     "name": "stdout",
     "output_type": "stream",
     "text": [
      "+--------+---+-------+-------+\n",
      "|    Name|Age|Address| Salary|\n",
      "+--------+---+-------+-------+\n",
      "|     Jay| 23|  Ajmer|  32000|\n",
      "|  Manish| 19| Jaipur|  36450|\n",
      "|    Oman| 11|  Ajmer|  61700|\n",
      "|    Yuzi| 30|  Noida|  78200|\n",
      "|   Viraj| 25| Mumbai|1012000|\n",
      "|Shrijesh| 22|   null|  43230|\n",
      "|Amrindra| 32| Panjab|   null|\n",
      "|  Amisha| 23| Jaipur|  45010|\n",
      "+--------+---+-------+-------+\n",
      "\n"
     ]
    }
   ],
   "source": [
    "### Subset\n",
    "data.dropna(how='any', subset=['Age']).show()"
   ]
  },
  {
   "cell_type": "code",
   "execution_count": 29,
   "id": "5a7c08d8",
   "metadata": {},
   "outputs": [
    {
     "name": "stdout",
     "output_type": "stream",
     "text": [
      "+--------+---+-------+-------+\n",
      "|    Name|Age|Address| Salary|\n",
      "+--------+---+-------+-------+\n",
      "|     Jay| 23|  Ajmer|  32000|\n",
      "|  Manish| 19| Jaipur|  36450|\n",
      "|    Oman| 11|  Ajmer|  61700|\n",
      "|    Yuzi| 30|  Noida|  78200|\n",
      "|Virendra|  0|  Ajmer|  83000|\n",
      "|   Viraj| 25| Mumbai|1012000|\n",
      "|Shrijesh| 22|Unknown|  43230|\n",
      "|  Ganesh|  0|Unknown|  21000|\n",
      "|Amrindra| 32| Panjab|     -1|\n",
      "|  Amisha| 23| Jaipur|  45010|\n",
      "+--------+---+-------+-------+\n",
      "\n"
     ]
    }
   ],
   "source": [
    "### Filling missing values\n",
    "data.fillna({'Age': 0, 'Address': 'Unknown', 'Salary': -1}).show()"
   ]
  },
  {
   "cell_type": "code",
   "execution_count": 31,
   "id": "48e7c928",
   "metadata": {},
   "outputs": [],
   "source": [
    "### Filling Missing values by statistical measure\n",
    "from pyspark.ml.feature import Imputer\n",
    "\n",
    "imputer = Imputer(\n",
    "    inputCols=['Age', 'Salary'],\n",
    "    outputCols=[\"{}_imputed\".format(c) for c in ['Age', 'Salary']]\n",
    ").setStrategy(\"mean\")"
   ]
  },
  {
   "cell_type": "code",
   "execution_count": 32,
   "id": "116e7355",
   "metadata": {},
   "outputs": [
    {
     "name": "stdout",
     "output_type": "stream",
     "text": [
      "+--------+----+-------+-------+-----------+--------------+\n",
      "|    Name| Age|Address| Salary|Age_imputed|Salary_imputed|\n",
      "+--------+----+-------+-------+-----------+--------------+\n",
      "|     Jay|  23|  Ajmer|  32000|         23|         32000|\n",
      "|  Manish|  19| Jaipur|  36450|         19|         36450|\n",
      "|    Oman|  11|  Ajmer|  61700|         11|         61700|\n",
      "|    Yuzi|  30|  Noida|  78200|         30|         78200|\n",
      "|Virendra|null|  Ajmer|  83000|         23|         83000|\n",
      "|   Viraj|  25| Mumbai|1012000|         25|       1012000|\n",
      "|Shrijesh|  22|   null|  43230|         22|         43230|\n",
      "|  Ganesh|null|   null|  21000|         23|         21000|\n",
      "|Amrindra|  32| Panjab|   null|         32|        156954|\n",
      "|  Amisha|  23| Jaipur|  45010|         23|         45010|\n",
      "+--------+----+-------+-------+-----------+--------------+\n",
      "\n"
     ]
    }
   ],
   "source": [
    "# Add imputation cols to df\n",
    "imputer.fit(data).transform(data).show()"
   ]
  },
  {
   "cell_type": "code",
   "execution_count": null,
   "id": "d791e61d",
   "metadata": {},
   "outputs": [],
   "source": []
  },
  {
   "cell_type": "code",
   "execution_count": null,
   "id": "e600f764",
   "metadata": {},
   "outputs": [],
   "source": []
  }
 ],
 "metadata": {
  "kernelspec": {
   "display_name": "Python 3 (ipykernel)",
   "language": "python",
   "name": "python3"
  },
  "language_info": {
   "codemirror_mode": {
    "name": "ipython",
    "version": 3
   },
   "file_extension": ".py",
   "mimetype": "text/x-python",
   "name": "python",
   "nbconvert_exporter": "python",
   "pygments_lexer": "ipython3",
   "version": "3.9.12"
  }
 },
 "nbformat": 4,
 "nbformat_minor": 5
}
