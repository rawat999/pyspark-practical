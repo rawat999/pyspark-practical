{
 "cells": [
  {
   "cell_type": "code",
   "execution_count": 1,
   "id": "76fd15e0",
   "metadata": {},
   "outputs": [],
   "source": [
    "from pyspark.sql import SparkSession\n",
    "spark = SparkSession.builder.master('local[1]').appName('GroundStateEnergies').getOrCreate()"
   ]
  },
  {
   "cell_type": "code",
   "execution_count": 31,
   "id": "7ed1a896",
   "metadata": {},
   "outputs": [
    {
     "data": {
      "text/html": [
       "\n",
       "            <div>\n",
       "                <p><b>SparkSession - in-memory</b></p>\n",
       "                \n",
       "        <div>\n",
       "            <p><b>SparkContext</b></p>\n",
       "\n",
       "            <p><a href=\"http://MH-NKP-LAP-219:4040\">Spark UI</a></p>\n",
       "\n",
       "            <dl>\n",
       "              <dt>Version</dt>\n",
       "                <dd><code>v3.4.1</code></dd>\n",
       "              <dt>Master</dt>\n",
       "                <dd><code>local[1]</code></dd>\n",
       "              <dt>AppName</dt>\n",
       "                <dd><code>GroundStateEnergies</code></dd>\n",
       "            </dl>\n",
       "        </div>\n",
       "        \n",
       "            </div>\n",
       "        "
      ],
      "text/plain": [
       "<pyspark.sql.session.SparkSession at 0x2cce6e6d9a0>"
      ]
     },
     "execution_count": 31,
     "metadata": {},
     "output_type": "execute_result"
    }
   ],
   "source": [
    "spark"
   ]
  },
  {
   "cell_type": "code",
   "execution_count": 17,
   "id": "9809f985",
   "metadata": {},
   "outputs": [
    {
     "name": "stdout",
     "output_type": "stream",
     "text": [
      "+-----------------+------------------+------------------+------------------+------------------+----------+-------------------+\n",
      "|                0|                 1|                 2|                 3|                 4|pubchem_id|                Eat|\n",
      "+-----------------+------------------+------------------+------------------+------------------+----------+-------------------+\n",
      "|73.51669471981023| 17.81776508458945| 12.46955101471414|12.458130159135047|12.454607457208622|     25004|-19.013762529999866|\n",
      "|73.51669471981023|20.649126049739863|18.527788932970484|17.891534524101264|17.887995075841932|     25005|-10.161019429999953|\n",
      "|73.51669471981023|17.830377224933926| 12.51226341499877| 12.40477532898951|12.394492613618938|     25006| -9.376619229999946|\n",
      "+-----------------+------------------+------------------+------------------+------------------+----------+-------------------+\n",
      "only showing top 3 rows\n",
      "\n"
     ]
    }
   ],
   "source": [
    "base_cols = ['pubchem_id', 'Eat']\n",
    "num_cols = 5\n",
    "selected_cols = [str(i) for i in range(num_cols)]\n",
    "selected_cols.extend(base_cols)\n",
    "data = spark.read.csv('ground_state_energies/roboBohr.csv', header=True, inferSchema=True).select(selected_cols)\n",
    "data.show(3)"
   ]
  },
  {
   "cell_type": "code",
   "execution_count": 18,
   "id": "fc3f2113",
   "metadata": {},
   "outputs": [
    {
     "name": "stdout",
     "output_type": "stream",
     "text": [
      "root\n",
      " |-- 0: double (nullable = true)\n",
      " |-- 1: double (nullable = true)\n",
      " |-- 2: double (nullable = true)\n",
      " |-- 3: double (nullable = true)\n",
      " |-- 4: double (nullable = true)\n",
      " |-- pubchem_id: integer (nullable = true)\n",
      " |-- Eat: double (nullable = true)\n",
      "\n"
     ]
    }
   ],
   "source": [
    "data.printSchema()"
   ]
  },
  {
   "cell_type": "code",
   "execution_count": 19,
   "id": "c384527f",
   "metadata": {},
   "outputs": [],
   "source": [
    "from pyspark.ml.feature import VectorAssembler\n",
    "featureassembler = VectorAssembler(inputCols=[str(i) for i in range(num_cols)], outputCol=\"IndependentFeature\")"
   ]
  },
  {
   "cell_type": "code",
   "execution_count": 20,
   "id": "8b3443d7",
   "metadata": {},
   "outputs": [],
   "source": [
    "train_data = featureassembler.transform(data)"
   ]
  },
  {
   "cell_type": "code",
   "execution_count": 23,
   "id": "07759d14",
   "metadata": {},
   "outputs": [
    {
     "name": "stdout",
     "output_type": "stream",
     "text": [
      "+--------------------+\n",
      "|  IndependentFeature|\n",
      "+--------------------+\n",
      "|[73.5166947198102...|\n",
      "|[73.5166947198102...|\n",
      "|[73.5166947198102...|\n",
      "|[73.5166947198102...|\n",
      "+--------------------+\n",
      "only showing top 4 rows\n",
      "\n"
     ]
    }
   ],
   "source": [
    "train_data.select('IndependentFeature').show(4)"
   ]
  },
  {
   "cell_type": "code",
   "execution_count": 24,
   "id": "478d8a00",
   "metadata": {},
   "outputs": [
    {
     "name": "stdout",
     "output_type": "stream",
     "text": [
      "+--------------------+-------------------+\n",
      "|  IndependentFeature|                Eat|\n",
      "+--------------------+-------------------+\n",
      "|[73.5166947198102...|-19.013762529999866|\n",
      "|[73.5166947198102...|-10.161019429999953|\n",
      "|[73.5166947198102...| -9.376619229999946|\n",
      "+--------------------+-------------------+\n",
      "only showing top 3 rows\n",
      "\n"
     ]
    }
   ],
   "source": [
    "finalized_data = train_data.select('IndependentFeature', 'Eat')\n",
    "finalized_data.show(3)"
   ]
  },
  {
   "cell_type": "code",
   "execution_count": 25,
   "id": "8a6ee174",
   "metadata": {},
   "outputs": [],
   "source": [
    "from pyspark.ml.regression import LinearRegression\n",
    "train_set, valid_set = finalized_data.randomSplit([0.8, 0.2])\n",
    "regressor = LinearRegression(featuresCol='IndependentFeature', labelCol='Eat')\n",
    "regressor=regressor.fit(train_set)"
   ]
  },
  {
   "cell_type": "code",
   "execution_count": 26,
   "id": "e15694c5",
   "metadata": {},
   "outputs": [
    {
     "data": {
      "text/plain": [
       "DenseVector([0.0016, 0.106, 0.0586, -0.0308, -0.2108])"
      ]
     },
     "execution_count": 26,
     "metadata": {},
     "output_type": "execute_result"
    }
   ],
   "source": [
    "### Coefficient\n",
    "regressor.coefficients"
   ]
  },
  {
   "cell_type": "code",
   "execution_count": 27,
   "id": "f07df745",
   "metadata": {},
   "outputs": [
    {
     "data": {
      "text/plain": [
       "-10.748384396158793"
      ]
     },
     "execution_count": 27,
     "metadata": {},
     "output_type": "execute_result"
    }
   ],
   "source": [
    "### Intercepts\n",
    "regressor.intercept"
   ]
  },
  {
   "cell_type": "code",
   "execution_count": 28,
   "id": "d544a212",
   "metadata": {},
   "outputs": [],
   "source": [
    "### Predictions\n",
    "pred_results = regressor.evaluate(train_set)"
   ]
  },
  {
   "cell_type": "code",
   "execution_count": 29,
   "id": "a8d4acab",
   "metadata": {},
   "outputs": [
    {
     "name": "stdout",
     "output_type": "stream",
     "text": [
      "+--------------------+-------------------+-------------------+\n",
      "|  IndependentFeature|                Eat|         prediction|\n",
      "+--------------------+-------------------+-------------------+\n",
      "|(5,[0,1],[53.3587...| -1.207594010000001| -8.194471994350016|\n",
      "|(5,[0,1],[73.5166...|-0.9827892500000033| -8.087182287021717|\n",
      "|[36.8581051994259...|-1.7550030800000034|-10.914281554584761|\n",
      "|[36.8581051994259...|-1.7550030800000034|-10.914281554584761|\n",
      "|[36.8581051994259...| -10.17353853999991|-11.638754093133144|\n",
      "|[36.8581051994259...| -4.736708110000016|-11.641543549040769|\n",
      "|[36.8581051994259...| -17.34876028999986|-11.633380546101439|\n",
      "|[36.8581051994259...| -10.95664080999994|-11.644442393117687|\n",
      "|[36.8581051994259...|-12.598071529999913| -11.64495306803491|\n",
      "|[36.8581051994259...|  -8.97782656999992|-11.631240233878282|\n",
      "|[36.8581051994259...|-6.5794563800000105|-11.646494478660287|\n",
      "|[36.8581051994259...| -9.066991039999934|-11.641834049884503|\n",
      "|[36.8581051994259...|  -11.3647322099999|-11.638318917818076|\n",
      "|[36.8581051994259...|-11.354187789999898|-11.633133457825245|\n",
      "|[36.8581051994259...|-10.163435059999912|-11.635467883700109|\n",
      "|[36.8581051994259...|-17.513821539999867|-11.643547025860572|\n",
      "|[36.8581051994259...| -12.57896128999991|-11.638178475341256|\n",
      "|[36.8581051994259...|-13.381240499999905|-11.638431177554974|\n",
      "|[36.8581051994259...|-7.7760110199999275|-11.646561649424946|\n",
      "|[36.8581051994259...|-10.178887979999914|-11.641447023671338|\n",
      "+--------------------+-------------------+-------------------+\n",
      "only showing top 20 rows\n",
      "\n"
     ]
    }
   ],
   "source": [
    "pred_results.predictions.show()"
   ]
  },
  {
   "cell_type": "code",
   "execution_count": 30,
   "id": "c2b03d45",
   "metadata": {},
   "outputs": [
    {
     "data": {
      "text/plain": [
       "(2.8628827290379704, 12.77370833025871)"
      ]
     },
     "execution_count": 30,
     "metadata": {},
     "output_type": "execute_result"
    }
   ],
   "source": [
    "pred_results.meanAbsoluteError, pred_results.meanSquaredError"
   ]
  },
  {
   "cell_type": "code",
   "execution_count": null,
   "id": "f59e6817",
   "metadata": {},
   "outputs": [],
   "source": []
  },
  {
   "cell_type": "code",
   "execution_count": null,
   "id": "026371d4",
   "metadata": {},
   "outputs": [],
   "source": []
  },
  {
   "cell_type": "code",
   "execution_count": null,
   "id": "0d1d0a90",
   "metadata": {},
   "outputs": [],
   "source": []
  }
 ],
 "metadata": {
  "kernelspec": {
   "display_name": "Python 3 (ipykernel)",
   "language": "python",
   "name": "python3"
  },
  "language_info": {
   "codemirror_mode": {
    "name": "ipython",
    "version": 3
   },
   "file_extension": ".py",
   "mimetype": "text/x-python",
   "name": "python",
   "nbconvert_exporter": "python",
   "pygments_lexer": "ipython3",
   "version": "3.9.12"
  }
 },
 "nbformat": 4,
 "nbformat_minor": 5
}
