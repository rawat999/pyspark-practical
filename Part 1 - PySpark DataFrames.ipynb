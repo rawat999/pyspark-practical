{
 "cells": [
  {
   "cell_type": "code",
   "execution_count": 1,
   "id": "28597a49",
   "metadata": {},
   "outputs": [],
   "source": [
    "import pyspark\n",
    "from pyspark.sql import SparkSession\n",
    "# spark = SparkSession.builder.getOrCreate()\n",
    "spark = SparkSession.builder.master(\"local[1]\").appName(\"SparkPractice\").getOrCreate()"
   ]
  },
  {
   "cell_type": "code",
   "execution_count": 2,
   "id": "dca4b08d",
   "metadata": {},
   "outputs": [
    {
     "data": {
      "text/html": [
       "\n",
       "            <div>\n",
       "                <p><b>SparkSession - in-memory</b></p>\n",
       "                \n",
       "        <div>\n",
       "            <p><b>SparkContext</b></p>\n",
       "\n",
       "            <p><a href=\"http://MH-NKP-LAP-219:4040\">Spark UI</a></p>\n",
       "\n",
       "            <dl>\n",
       "              <dt>Version</dt>\n",
       "                <dd><code>v3.4.1</code></dd>\n",
       "              <dt>Master</dt>\n",
       "                <dd><code>local[1]</code></dd>\n",
       "              <dt>AppName</dt>\n",
       "                <dd><code>SparkPractice</code></dd>\n",
       "            </dl>\n",
       "        </div>\n",
       "        \n",
       "            </div>\n",
       "        "
      ],
      "text/plain": [
       "<pyspark.sql.session.SparkSession at 0x2339f0bb3d0>"
      ]
     },
     "execution_count": 2,
     "metadata": {},
     "output_type": "execute_result"
    }
   ],
   "source": [
    "spark"
   ]
  },
  {
   "cell_type": "code",
   "execution_count": 16,
   "id": "1f3f3dd3",
   "metadata": {},
   "outputs": [],
   "source": [
    "# read csv file\n",
    "df_test = spark.read.csv('test_1.csv', header=True, inferSchema=True)"
   ]
  },
  {
   "cell_type": "code",
   "execution_count": 17,
   "id": "e9045978",
   "metadata": {},
   "outputs": [
    {
     "name": "stdout",
     "output_type": "stream",
     "text": [
      "+------+---+-------+\n",
      "|  Name|Age|Address|\n",
      "+------+---+-------+\n",
      "|   Jay| 23|  Ajmer|\n",
      "|Manish| 19| Jaipur|\n",
      "|  Oman| 11|  Ajmer|\n",
      "|  Yuzi| 30|  Noida|\n",
      "| Virat| 36|  Delhi|\n",
      "+------+---+-------+\n",
      "\n"
     ]
    }
   ],
   "source": [
    "df_test.show()"
   ]
  },
  {
   "cell_type": "code",
   "execution_count": 18,
   "id": "67435531",
   "metadata": {},
   "outputs": [
    {
     "data": {
      "text/plain": [
       "pyspark.sql.dataframe.DataFrame"
      ]
     },
     "execution_count": 18,
     "metadata": {},
     "output_type": "execute_result"
    }
   ],
   "source": [
    "# type of pyspark dataframe\n",
    "type(df_test)"
   ]
  },
  {
   "cell_type": "code",
   "execution_count": 19,
   "id": "96c3438e",
   "metadata": {},
   "outputs": [
    {
     "data": {
      "text/plain": [
       "[Row(Name='Jay', Age=23, Address='Ajmer'),\n",
       " Row(Name='Manish', Age=19, Address='Jaipur'),\n",
       " Row(Name='Oman', Age=11, Address='Ajmer')]"
      ]
     },
     "execution_count": 19,
     "metadata": {},
     "output_type": "execute_result"
    }
   ],
   "source": [
    "df_test.head(n=3)"
   ]
  },
  {
   "cell_type": "code",
   "execution_count": 20,
   "id": "7ceb5b5f",
   "metadata": {},
   "outputs": [
    {
     "data": {
      "text/plain": [
       "[Row(Name='Oman', Age=11, Address='Ajmer'),\n",
       " Row(Name='Yuzi', Age=30, Address='Noida'),\n",
       " Row(Name='Virat', Age=36, Address='Delhi')]"
      ]
     },
     "execution_count": 20,
     "metadata": {},
     "output_type": "execute_result"
    }
   ],
   "source": [
    "df_test.tail(num=3)"
   ]
  },
  {
   "cell_type": "code",
   "execution_count": 21,
   "id": "a55ee9a9",
   "metadata": {},
   "outputs": [
    {
     "name": "stdout",
     "output_type": "stream",
     "text": [
      "root\n",
      " |-- Name: string (nullable = true)\n",
      " |-- Age: integer (nullable = true)\n",
      " |-- Address: string (nullable = true)\n",
      "\n"
     ]
    }
   ],
   "source": [
    "# Check the schema\n",
    "df_test.printSchema()"
   ]
  },
  {
   "cell_type": "code",
   "execution_count": 23,
   "id": "5d1a9686",
   "metadata": {},
   "outputs": [
    {
     "name": "stdout",
     "output_type": "stream",
     "text": [
      "+---+\n",
      "|Age|\n",
      "+---+\n",
      "| 23|\n",
      "| 19|\n",
      "| 11|\n",
      "| 30|\n",
      "| 36|\n",
      "+---+\n",
      "\n"
     ]
    }
   ],
   "source": [
    "# selecting columns\n",
    "df_test.select('Age').show()"
   ]
  },
  {
   "cell_type": "code",
   "execution_count": 24,
   "id": "0a156529",
   "metadata": {},
   "outputs": [
    {
     "data": {
      "text/plain": [
       "pyspark.sql.dataframe.DataFrame"
      ]
     },
     "execution_count": 24,
     "metadata": {},
     "output_type": "execute_result"
    }
   ],
   "source": [
    "type(df_test.select('Age'))"
   ]
  },
  {
   "cell_type": "code",
   "execution_count": 26,
   "id": "d353d771",
   "metadata": {},
   "outputs": [
    {
     "name": "stdout",
     "output_type": "stream",
     "text": [
      "+------+-------+\n",
      "|  Name|Address|\n",
      "+------+-------+\n",
      "|   Jay|  Ajmer|\n",
      "|Manish| Jaipur|\n",
      "|  Oman|  Ajmer|\n",
      "|  Yuzi|  Noida|\n",
      "| Virat|  Delhi|\n",
      "+------+-------+\n",
      "\n"
     ]
    }
   ],
   "source": [
    "# select multiple rows\n",
    "df_test.select(['Name', 'Address']).show()"
   ]
  },
  {
   "cell_type": "code",
   "execution_count": 28,
   "id": "5feaff83",
   "metadata": {},
   "outputs": [
    {
     "data": {
      "text/plain": [
       "[('Name', 'string'), ('Age', 'int'), ('Address', 'string')]"
      ]
     },
     "execution_count": 28,
     "metadata": {},
     "output_type": "execute_result"
    }
   ],
   "source": [
    "# check datatypes of columns\n",
    "df_test.dtypes"
   ]
  },
  {
   "cell_type": "code",
   "execution_count": 30,
   "id": "994171c4",
   "metadata": {},
   "outputs": [
    {
     "name": "stdout",
     "output_type": "stream",
     "text": [
      "+-------+----+----------------+-------+\n",
      "|summary|Name|             Age|Address|\n",
      "+-------+----+----------------+-------+\n",
      "|  count|   5|               5|      5|\n",
      "|   mean|null|            23.8|   null|\n",
      "| stddev|null|9.67987603226405|   null|\n",
      "|    min| Jay|              11|  Ajmer|\n",
      "|    max|Yuzi|              36|  Noida|\n",
      "+-------+----+----------------+-------+\n",
      "\n"
     ]
    }
   ],
   "source": [
    "# describe option like pandas\n",
    "df_test.describe().show()"
   ]
  },
  {
   "cell_type": "code",
   "execution_count": 39,
   "id": "39506b30",
   "metadata": {},
   "outputs": [
    {
     "name": "stdout",
     "output_type": "stream",
     "text": [
      "+------+---+-------+----------+\n",
      "|  Name|Age|Address|Experience|\n",
      "+------+---+-------+----------+\n",
      "|   Jay| 23|  Ajmer|        12|\n",
      "|Manish| 19| Jaipur|         8|\n",
      "|  Oman| 11|  Ajmer|         0|\n",
      "|  Yuzi| 30|  Noida|        19|\n",
      "| Virat| 36|  Delhi|        25|\n",
      "+------+---+-------+----------+\n",
      "\n"
     ]
    }
   ],
   "source": [
    "# Adding Columns\n",
    "df_test1 = df_test.withColumn(colName='Experience', col=df_test.Age - 11)\n",
    "df_test1.show()"
   ]
  },
  {
   "cell_type": "code",
   "execution_count": 41,
   "id": "33bdbc8c",
   "metadata": {},
   "outputs": [
    {
     "name": "stdout",
     "output_type": "stream",
     "text": [
      "+------+---+-------+\n",
      "|  Name|Age|Address|\n",
      "+------+---+-------+\n",
      "|   Jay| 23|  Ajmer|\n",
      "|Manish| 19| Jaipur|\n",
      "|  Oman| 11|  Ajmer|\n",
      "|  Yuzi| 30|  Noida|\n",
      "| Virat| 36|  Delhi|\n",
      "+------+---+-------+\n",
      "\n"
     ]
    }
   ],
   "source": [
    "### Drop the column\n",
    "df_test1_col_drop = df_test1.drop('Experience')\n",
    "df_test1_col_drop.show()"
   ]
  },
  {
   "cell_type": "code",
   "execution_count": 42,
   "id": "ad7ad48b",
   "metadata": {},
   "outputs": [
    {
     "name": "stdout",
     "output_type": "stream",
     "text": [
      "+------+---+--------+\n",
      "|  Name|Age|location|\n",
      "+------+---+--------+\n",
      "|   Jay| 23|   Ajmer|\n",
      "|Manish| 19|  Jaipur|\n",
      "|  Oman| 11|   Ajmer|\n",
      "|  Yuzi| 30|   Noida|\n",
      "| Virat| 36|   Delhi|\n",
      "+------+---+--------+\n",
      "\n"
     ]
    }
   ],
   "source": [
    "### Rename the Columns\n",
    "df_test2 = df_test.withColumnRenamed(existing='Address', new='location')\n",
    "df_test2.show()"
   ]
  },
  {
   "cell_type": "code",
   "execution_count": null,
   "id": "6ec6059a",
   "metadata": {},
   "outputs": [],
   "source": []
  }
 ],
 "metadata": {
  "kernelspec": {
   "display_name": "Python 3 (ipykernel)",
   "language": "python",
   "name": "python3"
  },
  "language_info": {
   "codemirror_mode": {
    "name": "ipython",
    "version": 3
   },
   "file_extension": ".py",
   "mimetype": "text/x-python",
   "name": "python",
   "nbconvert_exporter": "python",
   "pygments_lexer": "ipython3",
   "version": "3.9.12"
  }
 },
 "nbformat": 4,
 "nbformat_minor": 5
}
